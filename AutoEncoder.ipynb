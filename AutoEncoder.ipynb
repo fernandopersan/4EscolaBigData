{
  "nbformat": 4,
  "nbformat_minor": 0,
  "metadata": {
    "colab": {
      "name": "AutoEncoder.ipynb",
      "provenance": [],
      "authorship_tag": "ABX9TyPIPJ+PS4Vf145G1FpGe6hh",
      "include_colab_link": true
    },
    "kernelspec": {
      "name": "python3",
      "display_name": "Python 3"
    }
  },
  "cells": [
    {
      "cell_type": "markdown",
      "metadata": {
        "id": "view-in-github",
        "colab_type": "text"
      },
      "source": [
        "<a href=\"https://colab.research.google.com/github/fernandopersan/4EscolaBigData/blob/main/AutoEncoder.ipynb\" target=\"_parent\"><img src=\"https://colab.research.google.com/assets/colab-badge.svg\" alt=\"Open In Colab\"/></a>"
      ]
    },
    {
      "cell_type": "markdown",
      "metadata": {
        "id": "P_iP73y2mCMQ"
      },
      "source": [
        "# AutoEncoder com extração de características e classificação com SVM\n",
        "\n",
        "Antes de iniciar a execução do código faça a seguinte alteração: Menu: **Ambiente de execução -> Alterar o tipo de ambiente de execução -> GPU**"
      ]
    },
    {
      "cell_type": "code",
      "metadata": {
        "id": "24WOZMWukEmQ"
      },
      "source": [
        "import numpy as np\n",
        "from PIL import Image\n",
        "\n",
        "from keras.models import Model\n",
        "from keras.layers import Input, Conv2D, MaxPooling2D, Flatten, Reshape, UpSampling2D, Conv2DTranspose\n",
        "from keras.models import load_model\n",
        "from keras.datasets import cifar10\n",
        "\n",
        "from sklearn.svm import SVC\n",
        "from sklearn.metrics import accuracy_score\n",
        "\n",
        "import matplotlib.pyplot as plt"
      ],
      "execution_count": 1,
      "outputs": []
    },
    {
      "cell_type": "markdown",
      "metadata": {
        "id": "6XMcnDsymP6H"
      },
      "source": [
        "**Definição de parâmetros:**"
      ]
    },
    {
      "cell_type": "code",
      "metadata": {
        "id": "7Nwz3YkPk_HZ"
      },
      "source": [
        "batchSize = 32\n",
        "numberEpochs = 10"
      ],
      "execution_count": 2,
      "outputs": []
    },
    {
      "cell_type": "markdown",
      "metadata": {
        "id": "aBny283omTCI"
      },
      "source": [
        "A função **lowSampleDataset(X,Y)** apenas reduz a quantidade de exemplos para que a execução seja mais rápida em nosso exemplo!"
      ]
    },
    {
      "cell_type": "code",
      "metadata": {
        "id": "q3t85naGkU2L"
      },
      "source": [
        "def lowSampleDataset(X, Y):\n",
        "    perm = np.random.permutation(X.shape[0])\n",
        "    X = X[perm[0 : (int)(X.shape[0] * (5/100))]]\n",
        "    Y = Y[perm[0 : (int)(Y.shape[0] * (5/100))]]\n",
        "    return X, Y"
      ],
      "execution_count": 3,
      "outputs": []
    },
    {
      "cell_type": "markdown",
      "metadata": {
        "id": "Dlb9MhRTmVE6"
      },
      "source": [
        "**Pré-processamento:**\n",
        "\n",
        "1.   Carregamos o dataset CIFAR10\n",
        "2.   Reduzimos a quantidade de exemplos\n",
        "1.   Alteramos a resolução dos exemplos\n",
        "\n",
        "\n"
      ]
    },
    {
      "cell_type": "code",
      "metadata": {
        "id": "3f8teqaqkYAd",
        "outputId": "93ed3c6b-ad9a-4cbf-dfaf-cd3095f8914f",
        "colab": {
          "base_uri": "https://localhost:8080/",
          "height": 67
        }
      },
      "source": [
        "print(\"Loading CIFAR10 images ...\")\n",
        "(Xtrain, Ytrain), (Xtest, Ytest) = cifar10.load_data()\n",
        "\n",
        "Xtrain, Ytrain = lowSampleDataset(Xtrain, Ytrain)\n",
        "Xtest, Ytest = lowSampleDataset(Xtest, Ytest)\n",
        "\n",
        "print('\\tTraining set shape: ', Xtrain.shape)\n",
        "print('\\tTesting set shape: ', Xtest.shape)"
      ],
      "execution_count": 4,
      "outputs": [
        {
          "output_type": "stream",
          "text": [
            "Loading CIFAR10 images ...\n",
            "\tTraining set shape:  (2500, 32, 32, 3)\n",
            "\tTesting set shape:  (500, 32, 32, 3)\n"
          ],
          "name": "stdout"
        }
      ]
    },
    {
      "cell_type": "markdown",
      "metadata": {
        "id": "VOS3oM12mkav"
      },
      "source": [
        "**Preparando o AutoEncoder:**\n",
        "\n",
        "1.   Adicionamos as camadas desejadas\n",
        "2.   Definimos a função de perda e o otimizador\n"
      ]
    },
    {
      "cell_type": "code",
      "metadata": {
        "id": "tziFfwmNkfmY",
        "outputId": "3e5e2c9e-1a85-4ba4-ebe3-21fa15fdad61",
        "colab": {
          "base_uri": "https://localhost:8080/",
          "height": 470
        }
      },
      "source": [
        "print(\"Defining the AE ...\")\n",
        "input_img = Input(shape=(32, 32, 3,))\n",
        "\n",
        "encoder = Conv2D(8, kernel_size=(3,3), strides=(2, 2), padding='same', activation='relu')(input_img)\n",
        "encoder = Conv2D(8, kernel_size=(3,3), padding='valid', activation='relu')(encoder)\n",
        "encoder = MaxPooling2D(pool_size=(2, 2))(encoder)\n",
        "encoder = Flatten(name='code')(encoder)\n",
        "\n",
        "decoder = Reshape((7,7,8))(encoder)\n",
        "decoder = UpSampling2D((2,2))(decoder)\n",
        "decoder = Conv2DTranspose(8, kernel_size=(3,3), padding='valid', activation='relu')(decoder)\n",
        "decoder = Conv2DTranspose(3, kernel_size=(3,3), strides=(2, 2), padding='same', activation='relu')(decoder)\n",
        "\n",
        "autoencoder = Model(input_img, decoder)\n",
        "autoencoder.compile(loss='mean_squared_error', optimizer='adam')\n",
        "autoencoder.summary()"
      ],
      "execution_count": 5,
      "outputs": [
        {
          "output_type": "stream",
          "text": [
            "Defining the AE ...\n",
            "Model: \"functional_1\"\n",
            "_________________________________________________________________\n",
            "Layer (type)                 Output Shape              Param #   \n",
            "=================================================================\n",
            "input_1 (InputLayer)         [(None, 32, 32, 3)]       0         \n",
            "_________________________________________________________________\n",
            "conv2d (Conv2D)              (None, 16, 16, 8)         224       \n",
            "_________________________________________________________________\n",
            "conv2d_1 (Conv2D)            (None, 14, 14, 8)         584       \n",
            "_________________________________________________________________\n",
            "max_pooling2d (MaxPooling2D) (None, 7, 7, 8)           0         \n",
            "_________________________________________________________________\n",
            "code (Flatten)               (None, 392)               0         \n",
            "_________________________________________________________________\n",
            "reshape (Reshape)            (None, 7, 7, 8)           0         \n",
            "_________________________________________________________________\n",
            "up_sampling2d (UpSampling2D) (None, 14, 14, 8)         0         \n",
            "_________________________________________________________________\n",
            "conv2d_transpose (Conv2DTran (None, 16, 16, 8)         584       \n",
            "_________________________________________________________________\n",
            "conv2d_transpose_1 (Conv2DTr (None, 32, 32, 3)         219       \n",
            "=================================================================\n",
            "Total params: 1,611\n",
            "Trainable params: 1,611\n",
            "Non-trainable params: 0\n",
            "_________________________________________________________________\n"
          ],
          "name": "stdout"
        }
      ]
    },
    {
      "cell_type": "markdown",
      "metadata": {
        "id": "F8K4M1ENmz_o"
      },
      "source": [
        "**Treinamento da rede:**\n",
        "\n",
        "Após o treinamento geramos o gráfico com a loss"
      ]
    },
    {
      "cell_type": "code",
      "metadata": {
        "id": "pT37QXLGkm4q",
        "outputId": "4358ecf3-f1f9-46ab-a1e5-4db6c9b530bf",
        "colab": {
          "base_uri": "https://localhost:8080/",
          "height": 618
        }
      },
      "source": [
        "print(\"Training the AE ...\")\n",
        "historyAE = autoencoder.fit(x=Xtrain, y=Xtrain, batch_size=batchSize, epochs=numberEpochs, shuffle=True, verbose=1)\n",
        "\n",
        "plt.plot(historyAE.history['loss'])\n",
        "plt.ylabel('Loss')\n",
        "plt.legend(['AE'], loc='upper right')\n",
        "plt.show()"
      ],
      "execution_count": 6,
      "outputs": [
        {
          "output_type": "stream",
          "text": [
            "Training the AE ...\n",
            "Epoch 1/10\n",
            "79/79 [==============================] - 1s 18ms/step - loss: 9795.8516\n",
            "Epoch 2/10\n",
            "79/79 [==============================] - 1s 18ms/step - loss: 2832.6057\n",
            "Epoch 3/10\n",
            "79/79 [==============================] - 1s 18ms/step - loss: 1468.5160\n",
            "Epoch 4/10\n",
            "79/79 [==============================] - 1s 18ms/step - loss: 1219.1888\n",
            "Epoch 5/10\n",
            "79/79 [==============================] - 1s 18ms/step - loss: 1085.2235\n",
            "Epoch 6/10\n",
            "79/79 [==============================] - 1s 18ms/step - loss: 972.0002\n",
            "Epoch 7/10\n",
            "79/79 [==============================] - 1s 18ms/step - loss: 890.5311\n",
            "Epoch 8/10\n",
            "79/79 [==============================] - 1s 18ms/step - loss: 832.0901\n",
            "Epoch 9/10\n",
            "79/79 [==============================] - 1s 18ms/step - loss: 793.8523\n",
            "Epoch 10/10\n",
            "79/79 [==============================] - 1s 18ms/step - loss: 762.9573\n"
          ],
          "name": "stdout"
        },
        {
          "output_type": "display_data",
          "data": {
            "image/png": "[encoded data removed]",
            "text/plain": [
              "<Figure size 432x288 with 1 Axes>"
            ]
          },
          "metadata": {
            "tags": [],
            "needs_background": "light"
          }
        }
      ]
    },
    {
      "cell_type": "markdown",
      "metadata": {
        "id": "Im--NaW-m-yy"
      },
      "source": [
        "**Extração de características e classificação:**\n",
        "\n",
        "A extração de características ocorre com a camada 'code', tanto para o conjunto de treinamento quanto para o conjunto de teste. Em seguida, SVM é utilizado para predizer os rótulos."
      ]
    },
    {
      "cell_type": "code",
      "metadata": {
        "id": "mA1InDheku8w",
        "outputId": "c8cecb01-3054-46a7-cbf2-264b879b0887",
        "colab": {
          "base_uri": "https://localhost:8080/",
          "height": 84
        }
      },
      "source": [
        "print(\"Feature extraction with AutoEncoder ...\")\n",
        "autoencoder = Model(inputs=autoencoder.input, outputs=autoencoder.get_layer(name='code').output)\n",
        "\n",
        "prediction = np.array(autoencoder.predict(Xtrain))\n",
        "Xtrain = np.reshape(prediction, (prediction.shape[0], prediction.shape[1]))\n",
        "\n",
        "prediction = np.array(autoencoder.predict(Xtest))\n",
        "Xtest = np.reshape(prediction, (prediction.shape[0], prediction.shape[1]))\n",
        "\n",
        "print('\\tFeatures training shape: ', Xtrain.shape)\n",
        "print('\\tFeatures testing shape: ', Xtest.shape)\n",
        "\n",
        "svm = SVC(kernel='linear')\n",
        "svm.fit(Xtrain, np.ravel(Ytrain, order='C'))\n",
        "result = svm.predict(Xtest)\n",
        "\n",
        "acc = accuracy_score(result, np.ravel(Ytest, order='C'))\n",
        "print(\"\\tAccuracy Linear SVM: %0.4f\" % acc)"
      ],
      "execution_count": 7,
      "outputs": [
        {
          "output_type": "stream",
          "text": [
            "Feature extraction with AutoEncoder ...\n",
            "\tFeatures training shape:  (2500, 392)\n",
            "\tFeatures testing shape:  (500, 392)\n",
            "\tAccuracy Linear SVM: 0.3880\n"
          ],
          "name": "stdout"
        }
      ]
    }
  ]
}