{
  "nbformat": 4,
  "nbformat_minor": 0,
  "metadata": {
    "colab": {
      "name": "CNNFineTuning.ipynb",
      "provenance": [],
      "collapsed_sections": [],
      "authorship_tag": "ABX9TyMy0ivkjxUxzm+8S4civ9mQ",
      "include_colab_link": true
    },
    "kernelspec": {
      "name": "python3",
      "display_name": "Python 3"
    },
    "accelerator": "GPU"
  },
  "cells": [
    {
      "cell_type": "markdown",
      "metadata": {
        "id": "view-in-github",
        "colab_type": "text"
      },
      "source": [
        "<a href=\"https://colab.research.google.com/github/fernandopersan/4EscolaBigData/blob/main/CNNFineTuning.ipynb\" target=\"_parent\"><img src=\"https://colab.research.google.com/assets/colab-badge.svg\" alt=\"Open In Colab\"/></a>"
      ]
    },
    {
      "cell_type": "markdown",
      "metadata": {
        "id": "5ziDCdPnc2H1"
      },
      "source": [
        "# Fine-tuning com ResNet50: treinamento e testes\n",
        "\n",
        "Antes de iniciar a execução do código faça a seguinte alteração: \n",
        "**Menu: Ambiente de execução -> Alterar o tipo de ambiente de execução -> GPU**"
      ]
    },
    {
      "cell_type": "code",
      "metadata": {
        "id": "VUWqH9taZ-ok"
      },
      "source": [
        "import os\n",
        "import numpy as np\n",
        "from PIL import Image\n",
        "\n",
        "from keras.datasets import cifar10\n",
        "from keras.layers import Dense\n",
        "from keras.models import Model, Sequential, load_model\n",
        "from keras.optimizers import SGD\n",
        "from keras.utils import to_categorical\n",
        "from keras.applications import resnet50\n",
        "\n",
        "import matplotlib.pyplot as plt"
      ],
      "execution_count": 1,
      "outputs": []
    },
    {
      "cell_type": "markdown",
      "metadata": {
        "id": "yH7fge6CdLmt"
      },
      "source": [
        "**Definição de parâmetros:**"
      ]
    },
    {
      "cell_type": "code",
      "metadata": {
        "id": "gCE8h8X8ah-a"
      },
      "source": [
        "batchSize = 32\n",
        "numberEpochs = 10\n",
        "numberClasses = 10"
      ],
      "execution_count": 2,
      "outputs": []
    },
    {
      "cell_type": "markdown",
      "metadata": {
        "id": "vVEpSyPDdSFK"
      },
      "source": [
        "A função **lowSampleDataset(X,Y)** apenas reduz a quantidade de exemplos para que a execução seja mais rápida em nosso exemplo!"
      ]
    },
    {
      "cell_type": "code",
      "metadata": {
        "id": "ApPM0csmaHUr"
      },
      "source": [
        "def lowSampleDataset(X, Y):\n",
        "    perm = np.random.permutation(X.shape[0])\n",
        "    X = X[perm[0 : (int)(X.shape[0] * (5/100))]]\n",
        "    Y = Y[perm[0 : (int)(Y.shape[0] * (5/100))]]\n",
        "    return X, Y"
      ],
      "execution_count": 3,
      "outputs": []
    },
    {
      "cell_type": "markdown",
      "metadata": {
        "id": "Hx30pGXUdXpf"
      },
      "source": [
        "**Pré-processamento:**\n",
        "\n",
        "1.   Carregamos o dataset CIFAR10\n",
        "2.   Reduzimos a quantidade de exemplos\n",
        "1.   Alteramos a resolução dos exemplos\n",
        "\n"
      ]
    },
    {
      "cell_type": "code",
      "metadata": {
        "id": "nJVaKMsWaNl6",
        "outputId": "5db2926e-300f-43a5-8f48-1bb7f5964673",
        "colab": {
          "base_uri": "https://localhost:8080/",
          "height": 67
        }
      },
      "source": [
        "print(\"Loading CIFAR10 images ...\")\n",
        "(Xtrain, Ytrain), (Xtest, Ytest) = cifar10.load_data()\n",
        "\n",
        "Xtrain, Ytrain = lowSampleDataset(Xtrain, Ytrain)\n",
        "Xtest, Ytest = lowSampleDataset(Xtest, Ytest)\n",
        "\n",
        "X = []\n",
        "for i in range(0, Xtrain.shape[0]):\n",
        "    X.append(np.array(Image.fromarray(Xtrain[i]).resize(size=(224,224))))\n",
        "Xtrain = np.array(X)\n",
        "\n",
        "X = []\n",
        "for i in range(0, Xtest.shape[0]):\n",
        "    X.append(np.array(Image.fromarray(Xtest[i]).resize(size=(224,224))))\n",
        "Xtest = np.array(X)\n",
        "\n",
        "Ytrain = to_categorical(Ytrain)\n",
        "Ytest = to_categorical(Ytest)\n",
        "\n",
        "print('\\tTraining set shape: ', Xtrain.shape)\n",
        "print('\\tTesting set shape: ', Xtest.shape)"
      ],
      "execution_count": 4,
      "outputs": [
        {
          "output_type": "stream",
          "text": [
            "Loading CIFAR10 images ...\n",
            "\tTraining set shape:  (2500, 224, 224, 3)\n",
            "\tTesting set shape:  (500, 224, 224, 3)\n"
          ],
          "name": "stdout"
        }
      ]
    },
    {
      "cell_type": "markdown",
      "metadata": {
        "id": "W6iRtOXtdr06"
      },
      "source": [
        "**Preparando a rede para o fine-tuning:**\n",
        "\n",
        "1.   Carregamos o modelo pré-treinado\n",
        "2.   Adicionamos as camadas desejadas (a camada de predição deve conter o número de classes de saída do dataset)\n",
        "1.   Definimos a função de perda e o otimizador\n",
        "\n",
        "\n",
        "\n"
      ]
    },
    {
      "cell_type": "code",
      "metadata": {
        "id": "DjBgI-OjaWAV",
        "outputId": "9cdcf94a-12fa-4237-90dc-bd23d6b036e9",
        "colab": {
          "base_uri": "https://localhost:8080/",
          "height": 67
        }
      },
      "source": [
        "print(\"Loading the ResNet50-ImageNet model\")\n",
        "model = resnet50.ResNet50(input_shape=(224, 224, 3), weights='imagenet', include_top=True, classes=1000)\n",
        "model = Model(inputs=model.input, outputs=model.get_layer(index=-2).output)\n",
        "\n",
        "print(\"\\tAdding new layers to the model ...\")\n",
        "newTop = Sequential()\n",
        "newTop.add(Dense(numberClasses, activation='softmax', name='fc1000', input_shape=model.output_shape[1:]))\n",
        "\n",
        "print(\"\\tSet fine-tuning configuration...\")\n",
        "model = Model(inputs=model.input, outputs=newTop(model.output))\n",
        "\n",
        "#for layer in model.layers[:-int(10)]:\n",
        "#    layer.trainable = False\n",
        "\n",
        "#optimizer = SGD(lr=0.01, momentum=0.0001, decay=0.9)\n",
        "optimizer = 'adam'\n",
        "model.compile(loss='categorical_crossentropy', optimizer=optimizer, metrics=['accuracy'])\n",
        "#model.summary()"
      ],
      "execution_count": 5,
      "outputs": [
        {
          "output_type": "stream",
          "text": [
            "Loading the ResNet50-ImageNet model\n",
            "\tAdding new layers to the model ...\n",
            "\tSet fine-tuning configuration...\n"
          ],
          "name": "stdout"
        }
      ]
    },
    {
      "cell_type": "markdown",
      "metadata": {
        "id": "GfnXRWE1ePig"
      },
      "source": [
        "**Treinamento da rede:**\n",
        "\n",
        "Opcionalmente podemos alterar a ordem dos exemplos de teste para evitar que somente uma classe seja carregada para a memória.\n",
        "\n",
        "Também estamos armazenando a acurácia e a perda para criarmos um gráfico posteriormente."
      ]
    },
    {
      "cell_type": "code",
      "metadata": {
        "id": "ntEm1SLTasTW",
        "outputId": "72b6172e-7162-42be-b21a-87d615456466",
        "colab": {
          "base_uri": "https://localhost:8080/",
          "height": 202
        }
      },
      "source": [
        "print(\"Training the model ...\")\n",
        "batches = list(range(0, len(Ytrain), batchSize))\n",
        "perm = np.random.permutation(len(Ytrain))\n",
        "\n",
        "errLoss = []\n",
        "accLoss = []\n",
        "errLoss.append(1)\n",
        "accLoss.append(0)\n",
        "\n",
        "for e in range(0, numberEpochs):\n",
        "    for b in batches:\n",
        "        if b + batchSize < len(Ytrain):\n",
        "            x = Xtrain[perm[b : b + batchSize]]\n",
        "            y = Ytrain[perm[b : b + batchSize]]\n",
        "        else:\n",
        "            x = Xtrain[perm[b : ]]\n",
        "            y = Ytrain[perm[b : ]]\n",
        "        loss = model.train_on_batch(x, y)\n",
        "\n",
        "    print(\"\\tEpoch %i. [Error, Accuracy]: %.15f, %.15f \" % (e+1, loss[0], loss[1]))\n",
        "    errLoss.append(loss[0])\n",
        "    accLoss.append(loss[1])"
      ],
      "execution_count": 6,
      "outputs": [
        {
          "output_type": "stream",
          "text": [
            "Training the model ...\n",
            "\tEpoch 1. [Error, Accuracy]: 1.895565509796143, 0.250000000000000 \n",
            "\tEpoch 2. [Error, Accuracy]: 0.377260178327560, 1.000000000000000 \n",
            "\tEpoch 3. [Error, Accuracy]: 0.719654500484467, 0.750000000000000 \n",
            "\tEpoch 4. [Error, Accuracy]: 1.662980675697327, 0.500000000000000 \n",
            "\tEpoch 5. [Error, Accuracy]: 0.235206291079521, 0.750000000000000 \n",
            "\tEpoch 6. [Error, Accuracy]: 0.020643550902605, 1.000000000000000 \n",
            "\tEpoch 7. [Error, Accuracy]: 0.058252654969692, 1.000000000000000 \n",
            "\tEpoch 8. [Error, Accuracy]: 0.107673153281212, 1.000000000000000 \n",
            "\tEpoch 9. [Error, Accuracy]: 0.055949322879314, 1.000000000000000 \n",
            "\tEpoch 10. [Error, Accuracy]: 0.000916949065868, 1.000000000000000 \n"
          ],
          "name": "stdout"
        }
      ]
    },
    {
      "cell_type": "markdown",
      "metadata": {
        "id": "86j4nyJsenJf"
      },
      "source": [
        "**Criação do gráfico:**\n",
        "\n",
        "Aqui montamos o gráfico do treinamento exibindo o custo e a acurária do treinamento."
      ]
    },
    {
      "cell_type": "code",
      "metadata": {
        "id": "GTIvVk8ea7mw",
        "outputId": "57a7cc62-619f-4ff8-bff0-bf99879b03b7",
        "colab": {
          "base_uri": "https://localhost:8080/",
          "height": 296
        }
      },
      "source": [
        "print(\"Ploting training loss ...\")\n",
        "plt.plot(errLoss, label=\"Err\")\n",
        "plt.plot(accLoss, label=\"Acc\")\n",
        "plt.xlim([0, len(errLoss)-1])\n",
        "plt.legend(loc='upper right')\n",
        "plt.ylabel('Loss/Accuracy')\n",
        "plt.xlabel('Epochs')\n",
        "plt.margins(0.5, 0.5)\n",
        "plt.show()"
      ],
      "execution_count": 7,
      "outputs": [
        {
          "output_type": "stream",
          "text": [
            "Ploting training loss ...\n"
          ],
          "name": "stdout"
        },
        {
          "output_type": "display_data",
          "data": {
            "image/png": "[encoded data removed]",
            "text/plain": [
              "<Figure size 432x288 with 1 Axes>"
            ]
          },
          "metadata": {
            "tags": [],
            "needs_background": "light"
          }
        }
      ]
    },
    {
      "cell_type": "markdown",
      "metadata": {
        "id": "qJ8i2kiFe02U"
      },
      "source": [
        "**Testando o modelo:**\n",
        "\n",
        "Com o conjunto de teste verificamos a performance que a rede alcança para predizer os respectivos rótulos."
      ]
    },
    {
      "cell_type": "code",
      "metadata": {
        "id": "7CBw60vrbhfc",
        "outputId": "b6e3bbcf-7582-4990-cb7c-299695c33298",
        "colab": {
          "base_uri": "https://localhost:8080/",
          "height": 67
        }
      },
      "source": [
        "print(\"Testing the model ...\")\n",
        "acc = model.evaluate(Xtest, Ytest, batch_size=batchSize)\n",
        "#print(model.metrics_names)\n",
        "print(\"\\tTop-1 Accuracy: %f\" % acc[1])"
      ],
      "execution_count": 8,
      "outputs": [
        {
          "output_type": "stream",
          "text": [
            "Testing the model ...\n",
            "16/16 [==============================] - 2s 105ms/step - loss: 1.9270 - accuracy: 0.6280\n",
            "\tTop-1 Accuracy: 0.628000\n"
          ],
          "name": "stdout"
        }
      ]
    }
  ]
}