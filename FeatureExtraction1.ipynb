{
  "nbformat": 4,
  "nbformat_minor": 0,
  "metadata": {
    "colab": {
      "name": "FeatureExtraction1.ipynb",
      "provenance": [],
      "collapsed_sections": [],
      "include_colab_link": true
    },
    "kernelspec": {
      "name": "python3",
      "display_name": "Python 3"
    },
    "accelerator": "GPU"
  },
  "cells": [
    {
      "cell_type": "markdown",
      "metadata": {
        "id": "view-in-github",
        "colab_type": "text"
      },
      "source": [
        "<a href=\"https://colab.research.google.com/github/fernandopersan/4EscolaBigData/blob/main/FeatureExtraction1.ipynb\" target=\"_parent\"><img src=\"https://colab.research.google.com/assets/colab-badge.svg\" alt=\"Open In Colab\"/></a>"
      ]
    },
    {
      "cell_type": "markdown",
      "metadata": {
        "id": "-JQj0eeRAuPk"
      },
      "source": [
        "# **Extração de características com ResNet50 pré-treinada e Cross-Validation com K-NN**\n",
        "\n",
        "Antes de iniciar a execução do código faça a seguinte alteração:\n",
        "Menu: **Ambiente de execução -> Alterar o tipo de ambiente de execução -> GPU**"
      ]
    },
    {
      "cell_type": "code",
      "metadata": {
        "id": "may0CVr3_nHb"
      },
      "source": [
        "import numpy as np\n",
        "from PIL import Image\n",
        "\n",
        "from keras.datasets import cifar10\n",
        "from keras.models import Model\n",
        "from keras.applications import resnet50\n",
        "\n",
        "from sklearn.neighbors import KNeighborsClassifier\n",
        "from sklearn.model_selection import KFold\n",
        "from sklearn.model_selection import StratifiedKFold\n",
        "from sklearn.model_selection import cross_val_score"
      ],
      "execution_count": null,
      "outputs": []
    },
    {
      "cell_type": "markdown",
      "metadata": {
        "id": "HJYrVjEGAWeD"
      },
      "source": [
        "A função **lowSampleDataset(X,Y)** apenas reduz a quantidade de exemplos para que a execução seja mais rápida em nosso exemplo!"
      ]
    },
    {
      "cell_type": "code",
      "metadata": {
        "id": "QsyX15Ma_6KG"
      },
      "source": [
        "def lowSampleDataset(X, Y):\n",
        "    perm = np.random.permutation(X.shape[0])\n",
        "    X = X[perm[0 : (int)(X.shape[0] * (5/100))]]\n",
        "    Y = Y[perm[0 : (int)(Y.shape[0] * (5/100))]]\n",
        "    return X, Y"
      ],
      "execution_count": null,
      "outputs": []
    },
    {
      "cell_type": "markdown",
      "metadata": {
        "id": "nckipceXArvj"
      },
      "source": [
        "**Pré-processamento:**\n",
        "\n",
        "1.   Carregamos o dataset CIFAR10\n",
        "2.   Reduzimos a quantidade de exemplos\n",
        "1.   Alteramos a resolução dos exemplos\n",
        "\n",
        "Vamos supor que, neste exemplo, não exista o conjunto de teste, ou seja, existe somente o conjunto de treinamento em nosso dataset!\n",
        "\n",
        "\n",
        "\n",
        "\n"
      ]
    },
    {
      "cell_type": "code",
      "metadata": {
        "id": "L47i2JMv_wZ1",
        "outputId": "3f38a213-985c-4f95-b09c-5cb51cf6eb9a",
        "colab": {
          "base_uri": "https://localhost:8080/",
          "height": 67
        }
      },
      "source": [
        "print(\"Loading CIFAR10 images ...\")\n",
        "(Xtrain, Ytrain), (Xtest, Ytest) = cifar10.load_data()\n",
        "\n",
        "print('\\tOriginal training set shape: ', Xtrain.shape)\n",
        "\n",
        "Xtrain, Ytrain = lowSampleDataset(Xtrain, Ytrain)\n",
        "\n",
        "X = []\n",
        "for i in range(0, Xtrain.shape[0]):\n",
        "    X.append(np.array(Image.fromarray(Xtrain[i]).resize(size=(224,224))))\n",
        "Xtrain = np.array(X)\n",
        "\n",
        "print('\\tTraining set shape: ', Xtrain.shape)"
      ],
      "execution_count": null,
      "outputs": [
        {
          "output_type": "stream",
          "text": [
            "Loading CIFAR10 images ...\n",
            "\tOriginal training set shape:  (50000, 32, 32, 3)\n",
            "\tTraining set shape:  (2500, 224, 224, 3)\n"
          ],
          "name": "stdout"
        }
      ]
    },
    {
      "cell_type": "markdown",
      "metadata": {
        "id": "VtLXCXEsCr3g"
      },
      "source": [
        "**Extração de características:**\n",
        "\n",
        "Carregamos a ResNet50 e extraímos características utilizando a camada de pré-predição (-2)"
      ]
    },
    {
      "cell_type": "code",
      "metadata": {
        "id": "7252HyxzAAqq",
        "outputId": "5995b659-09f7-4b8f-b535-3d3e411dae78",
        "colab": {
          "base_uri": "https://localhost:8080/",
          "height": 50
        }
      },
      "source": [
        "print(\"Loading the ResNet50-ImageNet model ...\")\n",
        "model = resnet50.ResNet50(include_top=True, weights='imagenet', input_shape=(224, 224, 3), classes=1000)\n",
        "model = Model(inputs=model.input, outputs=model.get_layer(index=-2).output)\n",
        "#model.summary()\n",
        "\n",
        "prediction = np.array(model.predict(Xtrain))\n",
        "Xtrain = np.reshape(prediction, (prediction.shape[0], prediction.shape[1]))\n",
        "\n",
        "print('\\tFeatures training shape: ', Xtrain.shape)"
      ],
      "execution_count": null,
      "outputs": [
        {
          "output_type": "stream",
          "text": [
            "Loading the ResNet50-ImageNet model ...\n",
            "\tFeatures training shape:  (2500, 2048)\n"
          ],
          "name": "stdout"
        }
      ]
    },
    {
      "cell_type": "markdown",
      "metadata": {
        "id": "2f3CmWohDAVy"
      },
      "source": [
        "**Classificação utilizando Cross-Validation e K-NN:**\n",
        "\n",
        "Supondo que não exista conjuntos de treinamento e testes separados, a solução é aplicar Cross-Validation:\n",
        "\n",
        "\n",
        "1.   StratifiedkFold: tenta balancear os conjuntos\n",
        "2.   KFold: não possui a preocupação com o balanceamento dos conjuntos\n",
        "\n"
      ]
    },
    {
      "cell_type": "code",
      "metadata": {
        "id": "c1lpd5RcAGES",
        "outputId": "8fc89e1d-f2ee-4da0-9128-a16c9d86e306",
        "colab": {
          "base_uri": "https://localhost:8080/",
          "height": 50
        }
      },
      "source": [
        "print(\"Cross-validation with K-NN ...\")\n",
        "kf = StratifiedKFold(n_splits=5, shuffle=True)\n",
        "#kf = KFold(n_splits=5, shuffle=True)\n",
        "\n",
        "knn = KNeighborsClassifier(n_neighbors=3)\n",
        "scores = cross_val_score(knn, Xtrain, np.ravel(Ytrain, order='C'), cv=kf)\n",
        "print('\\tAccuracy K-NN: %0.4f +/- %0.4f' % (scores.mean(), scores.std()))"
      ],
      "execution_count": null,
      "outputs": [
        {
          "output_type": "stream",
          "text": [
            "Cross-validation with K-NN ...\n",
            "\tAccuracy K-NN: 0.6580 +/- 0.0057\n"
          ],
          "name": "stdout"
        }
      ]
    }
  ]
}