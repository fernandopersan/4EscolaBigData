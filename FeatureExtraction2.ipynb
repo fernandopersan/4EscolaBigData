{
  "nbformat": 4,
  "nbformat_minor": 0,
  "metadata": {
    "colab": {
      "name": "FeatureExtraction2.ipynb",
      "provenance": []
    },
    "kernelspec": {
      "name": "python3",
      "display_name": "Python 3"
    },
    "accelerator": "GPU"
  },
  "cells": [
    {
      "cell_type": "markdown",
      "metadata": {
        "id": "pFHWKqoXETFr"
      },
      "source": [
        "# **Extração de características com ResNet50 pré-treinada, redução de dimensionalidade e classificação com SVM**\n",
        "\n",
        "Antes de iniciar a execução do código faça a seguinte alteração:\n",
        "Menu: **Ambiente de execução -> Alterar o tipo de ambiente de execução -> GPU**"
      ]
    },
    {
      "cell_type": "code",
      "metadata": {
        "id": "I_6XXIzTEMfl"
      },
      "source": [
        "import numpy as np\n",
        "from PIL import Image\n",
        "\n",
        "from keras.datasets import cifar10\n",
        "from keras.models import Model\n",
        "from keras.applications import resnet50\n",
        "\n",
        "from sklearn.decomposition import PCA\n",
        "from sklearn.svm import SVC\n",
        "from sklearn.metrics import accuracy_score"
      ],
      "execution_count": 1,
      "outputs": []
    },
    {
      "cell_type": "markdown",
      "metadata": {
        "id": "HB6BoYJYFGS6"
      },
      "source": [
        "A função **lowSampleDataset(X,Y)** apenas reduz a quantidade de exemplos para que a execução seja mais rápida em nosso exemplo!"
      ]
    },
    {
      "cell_type": "code",
      "metadata": {
        "id": "VYDQUnkzFHiU"
      },
      "source": [
        "def lowSampleDataset(X, Y):\n",
        "    perm = np.random.permutation(X.shape[0])\n",
        "    X = X[perm[0 : (int)(X.shape[0] * (5/100))]]\n",
        "    Y = Y[perm[0 : (int)(Y.shape[0] * (5/100))]]\n",
        "    return X, Y"
      ],
      "execution_count": 2,
      "outputs": []
    },
    {
      "cell_type": "markdown",
      "metadata": {
        "id": "QjYuEdJ9FJ2O"
      },
      "source": [
        "**Pré-processamento:**\n",
        "\n",
        "1.   Carregamos o dataset CIFAR10\n",
        "2.   Reduzimos a quantidade de exemplos\n",
        "1.   Alteramos a resolução dos exemplos"
      ]
    },
    {
      "cell_type": "code",
      "metadata": {
        "id": "J-rei2LhFObo",
        "outputId": "2ae02c4d-6026-492b-8fcf-7e83641ef608",
        "colab": {
          "base_uri": "https://localhost:8080/",
          "height": 134
        }
      },
      "source": [
        "print(\"Loading CIFAR10 images ...\")\n",
        "(Xtrain, Ytrain), (Xtest, Ytest) = cifar10.load_data()\n",
        "\n",
        "print('\\tOriginal training set shape: ', Xtrain.shape)\n",
        "print('\\tOriginal testing set shape: ', Xtest.shape)\n",
        "\n",
        "Xtrain, Ytrain = lowSampleDataset(Xtrain, Ytrain)\n",
        "Xtest, Ytest = lowSampleDataset(Xtest, Ytest)\n",
        "\n",
        "X = []\n",
        "for i in range(0, Xtrain.shape[0]):\n",
        "    X.append(np.array(Image.fromarray(Xtrain[i]).resize(size=(224,224))))\n",
        "Xtrain = np.array(X)\n",
        "\n",
        "X = []\n",
        "for i in range(0, Xtest.shape[0]):\n",
        "    X.append(np.array(Image.fromarray(Xtest[i]).resize(size=(224,224))))\n",
        "Xtest = np.array(X)\n",
        "\n",
        "print('\\tTraining set shape: ', Xtrain.shape)\n",
        "print('\\tTesting set shape: ', Xtest.shape)"
      ],
      "execution_count": 3,
      "outputs": [
        {
          "output_type": "stream",
          "text": [
            "Loading CIFAR10 images ...\n",
            "Downloading data from https://www.cs.toronto.edu/~kriz/cifar-10-python.tar.gz\n",
            "170500096/170498071 [==============================] - 4s 0us/step\n",
            "\tOriginal training set shape:  (50000, 32, 32, 3)\n",
            "\tOriginal testing set shape:  (10000, 32, 32, 3)\n",
            "\tTraining set shape:  (2500, 224, 224, 3)\n",
            "\tTesting set shape:  (500, 224, 224, 3)\n"
          ],
          "name": "stdout"
        }
      ]
    },
    {
      "cell_type": "markdown",
      "metadata": {
        "id": "T-sZohhMFidA"
      },
      "source": [
        "**Extração de características:**\n",
        "\n",
        "Carregamos a ResNet50 e extraímos características utilizando a camada de pré-predição (-2)"
      ]
    },
    {
      "cell_type": "code",
      "metadata": {
        "id": "RbNMdoigFlED",
        "outputId": "0dca9dd1-4b05-4a5a-b52c-05468ab1aaa1",
        "colab": {
          "base_uri": "https://localhost:8080/",
          "height": 101
        }
      },
      "source": [
        "print(\"Loading the ResNet50-ImageNet model ...\")\n",
        "model = resnet50.ResNet50(include_top=True, weights='imagenet', input_shape=(224, 224, 3), classes=1000)\n",
        "model = Model(inputs=model.input, outputs=model.get_layer(index=-2).output)\n",
        "#model.summary()\n",
        "\n",
        "prediction = np.array(model.predict(Xtrain))\n",
        "Xtrain = np.reshape(prediction, (prediction.shape[0], prediction.shape[1]))\n",
        "\n",
        "prediction = np.array(model.predict(Xtest))\n",
        "Xtest = np.reshape(prediction, (prediction.shape[0], prediction.shape[1]))\n",
        "\n",
        "print('\\tFeatures training shape: ', Xtrain.shape)\n",
        "print('\\tFeatures testing shape: ', Xtest.shape)"
      ],
      "execution_count": 4,
      "outputs": [
        {
          "output_type": "stream",
          "text": [
            "Loading the ResNet50-ImageNet model ...\n",
            "Downloading data from https://storage.googleapis.com/tensorflow/keras-applications/resnet/resnet50_weights_tf_dim_ordering_tf_kernels.h5\n",
            "102973440/102967424 [==============================] - 1s 0us/step\n",
            "\tFeatures training shape:  (2500, 2048)\n",
            "\tFeatures testing shape:  (500, 2048)\n"
          ],
          "name": "stdout"
        }
      ]
    },
    {
      "cell_type": "markdown",
      "metadata": {
        "id": "pnShqeTiI8mF"
      },
      "source": [
        "**Redução de dimensionalidade:**\n",
        "\n",
        "As características extraídas possuem dimensão de 2048. Em alguns casos, a dimensionalidade pode ser muito alta, acarretando em muito processamento. Uma solução para agilizar o processo é a redução de dimensionalidade. PCA é uma técnica que avalia quais atributos possuem mais relevância e os seleciona."
      ]
    },
    {
      "cell_type": "code",
      "metadata": {
        "id": "NVOY8L-iFwTz",
        "outputId": "50df1326-4246-41eb-d7c9-c73e5a6eeaaa",
        "colab": {
          "base_uri": "https://localhost:8080/",
          "height": 67
        }
      },
      "source": [
        "print(\"Dimensionality reduction with PCA ...\")\n",
        "pca = PCA(n_components=256)\n",
        "Xtrain = pca.fit_transform(Xtrain)\n",
        "Xtest = pca.transform(Xtest)\n",
        "\n",
        "print('\\tFeatures training shape: ', Xtrain.shape)\n",
        "print('\\tFeatures testing shape: ', Xtest.shape)"
      ],
      "execution_count": 5,
      "outputs": [
        {
          "output_type": "stream",
          "text": [
            "Dimensionality reduction with PCA ...\n",
            "\tFeatures training shape:  (2500, 256)\n",
            "\tFeatures testing shape:  (500, 256)\n"
          ],
          "name": "stdout"
        }
      ]
    },
    {
      "cell_type": "markdown",
      "metadata": {
        "id": "hfYzRJ5ZJbD3"
      },
      "source": [
        "**Classificação:**\n",
        "\n",
        "Neste exemplo, temos o conjunto de treinamento e teste separados. Consequentemente, podemos aplicar um classificador sem a necessidade de Cross-Validation."
      ]
    },
    {
      "cell_type": "code",
      "metadata": {
        "id": "5iz0dR_7F5zB",
        "outputId": "dd7c2c17-69a0-4e2d-bfb8-4d3121c57831",
        "colab": {
          "base_uri": "https://localhost:8080/",
          "height": 50
        }
      },
      "source": [
        "print(\"Classification with Linear SVM ...\")\n",
        "svm = SVC(kernel='linear')\n",
        "svm.fit(Xtrain, np.ravel(Ytrain, order='C'))\n",
        "result = svm.predict(Xtest)\n",
        "\n",
        "acc = accuracy_score(result, np.ravel(Ytest, order='C'))\n",
        "print(\"\\tAccuracy Linear SVM: %0.4f\" % acc)"
      ],
      "execution_count": 6,
      "outputs": [
        {
          "output_type": "stream",
          "text": [
            "Classification with Linear SVM ...\n",
            "\tAccuracy Linear SVM: 0.7520\n"
          ],
          "name": "stdout"
        }
      ]
    }
  ]
}