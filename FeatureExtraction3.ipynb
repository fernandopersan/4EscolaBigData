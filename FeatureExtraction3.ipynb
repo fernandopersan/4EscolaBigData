{
  "nbformat": 4,
  "nbformat_minor": 0,
  "metadata": {
    "colab": {
      "name": "FeatureExtraction3.ipynb",
      "provenance": []
    },
    "kernelspec": {
      "name": "python3",
      "display_name": "Python 3"
    },
    "accelerator": "GPU"
  },
  "cells": [
    {
      "cell_type": "markdown",
      "metadata": {
        "id": "pFHWKqoXETFr"
      },
      "source": [
        "# **Extração de características com ResNet50 pré-treinada, fusão de características, redução de dimensionalidade e classificação com SVM**\n",
        "\n",
        "Antes de iniciar a execução do código faça a seguinte alteração:\n",
        "Menu: **Ambiente de execução -> Alterar o tipo de ambiente de execução -> GPU**"
      ]
    },
    {
      "cell_type": "code",
      "metadata": {
        "id": "I_6XXIzTEMfl"
      },
      "source": [
        "import numpy as np\n",
        "from PIL import Image\n",
        "\n",
        "from keras.datasets import cifar10\n",
        "from keras.models import Model\n",
        "from keras.applications import resnet50\n",
        "\n",
        "from sklearn.decomposition import PCA\n",
        "from sklearn.svm import SVC\n",
        "from sklearn.metrics import accuracy_score"
      ],
      "execution_count": 1,
      "outputs": []
    },
    {
      "cell_type": "markdown",
      "metadata": {
        "id": "HB6BoYJYFGS6"
      },
      "source": [
        "A função **lowSampleDataset(X,Y)** apenas reduz a quantidade de exemplos para que a execução seja mais rápida em nosso exemplo!"
      ]
    },
    {
      "cell_type": "code",
      "metadata": {
        "id": "VYDQUnkzFHiU"
      },
      "source": [
        "def lowSampleDataset(X, Y):\n",
        "    perm = np.random.permutation(X.shape[0])\n",
        "    X = X[perm[0 : (int)(X.shape[0] * (5/100))]]\n",
        "    Y = Y[perm[0 : (int)(Y.shape[0] * (5/100))]]\n",
        "    return X, Y"
      ],
      "execution_count": 2,
      "outputs": []
    },
    {
      "cell_type": "markdown",
      "metadata": {
        "id": "QjYuEdJ9FJ2O"
      },
      "source": [
        "**Pré-processamento:**\n",
        "\n",
        "1.   Carregamos o dataset CIFAR10\n",
        "2.   Reduzimos a quantidade de exemplos\n",
        "1.   Alteramos a resolução dos exemplos"
      ]
    },
    {
      "cell_type": "code",
      "metadata": {
        "id": "J-rei2LhFObo",
        "outputId": "2a1a980e-f6b3-42df-a1ba-acdd8c87fc7c",
        "colab": {
          "base_uri": "https://localhost:8080/",
          "height": 101
        }
      },
      "source": [
        "print(\"Loading CIFAR10 images ...\")\n",
        "(Xtrain, Ytrain), (Xtest, Ytest) = cifar10.load_data()\n",
        "\n",
        "print('\\tOriginal training set shape: ', Xtrain.shape)\n",
        "print('\\tOriginal testing set shape: ', Xtest.shape)\n",
        "\n",
        "Xtrain, Ytrain = lowSampleDataset(Xtrain, Ytrain)\n",
        "Xtest, Ytest = lowSampleDataset(Xtest, Ytest)\n",
        "\n",
        "X = []\n",
        "for i in range(0, Xtrain.shape[0]):\n",
        "    X.append(np.array(Image.fromarray(Xtrain[i]).resize(size=(224,224))))\n",
        "Xtrain = np.array(X)\n",
        "\n",
        "X = []\n",
        "for i in range(0, Xtest.shape[0]):\n",
        "    X.append(np.array(Image.fromarray(Xtest[i]).resize(size=(224,224))))\n",
        "Xtest = np.array(X)\n",
        "\n",
        "print('\\tTraining set shape: ', Xtrain.shape)\n",
        "print('\\tTesting set shape: ', Xtest.shape)"
      ],
      "execution_count": 3,
      "outputs": [
        {
          "output_type": "stream",
          "text": [
            "Loading CIFAR10 images ...\n",
            "\tOriginal training set shape:  (50000, 32, 32, 3)\n",
            "\tOriginal testing set shape:  (10000, 32, 32, 3)\n",
            "\tTraining set shape:  (2500, 224, 224, 3)\n",
            "\tTesting set shape:  (500, 224, 224, 3)\n"
          ],
          "name": "stdout"
        }
      ]
    },
    {
      "cell_type": "markdown",
      "metadata": {
        "id": "T-sZohhMFidA"
      },
      "source": [
        "**Extração de características:**\n",
        "\n",
        "Carregamos a ResNet50 e extraímos características utilizando:\n",
        "\n",
        "\n",
        "1.   Saída da camada **avg_pool** como descritor global (final da rede)\n",
        "2.   Saída da camada **conv5_block3_out** como descritor local (início da rede)\n",
        "\n",
        "Em seguida, realizamos a concatenação das características\n",
        "\n"
      ]
    },
    {
      "cell_type": "code",
      "metadata": {
        "id": "RbNMdoigFlED",
        "outputId": "e1fe345f-2b03-4a11-e1cb-f32158f1f451",
        "colab": {
          "base_uri": "https://localhost:8080/",
          "height": 67
        }
      },
      "source": [
        "print(\"Loading the ResNet50-ImageNet model ...\")\n",
        "model = resnet50.ResNet50(include_top=True, weights='imagenet', input_shape=(224, 224, 3), classes=1000)\n",
        "#model.summary()\n",
        "\n",
        "modelGlobal = Model(inputs=model.input, outputs=model.get_layer(name='avg_pool').output)\n",
        "prediction = np.array(modelGlobal.predict(Xtrain))\n",
        "XtrainGlobal = np.reshape(prediction, (prediction.shape[0], prediction.shape[1]))\n",
        "prediction = np.array(modelGlobal.predict(Xtest))\n",
        "XtestGlobal = np.reshape(prediction, (prediction.shape[0], prediction.shape[1]))\n",
        "\n",
        "modelLocal = Model(inputs=model.input, outputs=model.get_layer(name='conv5_block3_out').output)\n",
        "prediction = np.array(modelLocal.predict(Xtrain))\n",
        "XtrainLocal = np.reshape(prediction, (prediction.shape[0], prediction.shape[1]*prediction.shape[2]*prediction.shape[3]))\n",
        "prediction = np.array(modelLocal.predict(Xtest))\n",
        "XtestLocal = np.reshape(prediction, (prediction.shape[0], prediction.shape[1]*prediction.shape[2]*prediction.shape[3]))\n",
        "\n",
        "Xtrain = np.concatenate((XtrainGlobal, XtrainLocal), axis=1)\n",
        "Xtest = np.concatenate((XtestGlobal, XtestLocal), axis=1)\n",
        "\n",
        "print('\\tFeatures fusion training shape: ', Xtrain.shape)\n",
        "print('\\tFeatures fusion testing shape: ', Xtest.shape)"
      ],
      "execution_count": 4,
      "outputs": [
        {
          "output_type": "stream",
          "text": [
            "Loading the ResNet50-ImageNet model ...\n",
            "\tFeatures fusion training shape:  (2500, 102400)\n",
            "\tFeatures fusion testing shape:  (500, 102400)\n"
          ],
          "name": "stdout"
        }
      ]
    },
    {
      "cell_type": "markdown",
      "metadata": {
        "id": "PxoXGl8XR7rb"
      },
      "source": [
        "**Redução de dimensionalidade:**\n",
        "\n",
        "As características extraídas possuem dimensão de 102400. Uma solução para agilizar o processo é a redução de dimensionalidade. PCA é uma técnica que avalia quais atributos possuem mais relevância e os seleciona."
      ]
    },
    {
      "cell_type": "code",
      "metadata": {
        "id": "NVOY8L-iFwTz",
        "outputId": "89fc13f4-90c2-4a8c-eb20-06f01c563627",
        "colab": {
          "base_uri": "https://localhost:8080/",
          "height": 67
        }
      },
      "source": [
        "print(\"Dimensionality reduction with PCA ...\")\n",
        "pca = PCA(n_components=256)\n",
        "Xtrain = pca.fit_transform(Xtrain)\n",
        "Xtest = pca.transform(Xtest)\n",
        "\n",
        "print('\\tFeatures training shape: ', Xtrain.shape)\n",
        "print('\\tFeatures testing shape: ', Xtest.shape)"
      ],
      "execution_count": 5,
      "outputs": [
        {
          "output_type": "stream",
          "text": [
            "Dimensionality reduction with PCA ...\n",
            "\tFeatures training shape:  (2500, 256)\n",
            "\tFeatures testing shape:  (500, 256)\n"
          ],
          "name": "stdout"
        }
      ]
    },
    {
      "cell_type": "markdown",
      "metadata": {
        "id": "ZDN0rI46SN17"
      },
      "source": [
        "**Classificação:**\n",
        "\n",
        "Neste exemplo, temos o conjunto de treinamento e teste separados. Consequentemente, podemos aplicar um classificador sem a necessidade de Cross-Validation."
      ]
    },
    {
      "cell_type": "code",
      "metadata": {
        "id": "5iz0dR_7F5zB",
        "outputId": "815d1ac2-1368-4e8a-9cc4-704d3585f6b7",
        "colab": {
          "base_uri": "https://localhost:8080/",
          "height": 50
        }
      },
      "source": [
        "print(\"Classification with Linear SVM ...\")\n",
        "svm = SVC(kernel='linear')\n",
        "svm.fit(Xtrain, np.ravel(Ytrain, order='C'))\n",
        "result = svm.predict(Xtest)\n",
        "\n",
        "acc = accuracy_score(result, np.ravel(Ytest, order='C'))\n",
        "print(\"\\tAccuracy Linear SVM: %0.4f\" % acc)"
      ],
      "execution_count": 6,
      "outputs": [
        {
          "output_type": "stream",
          "text": [
            "Classification with Linear SVM ...\n",
            "\tAccuracy Linear SVM: 0.8320\n"
          ],
          "name": "stdout"
        }
      ]
    }
  ]
}